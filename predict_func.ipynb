{
 "cells": [
  {
   "cell_type": "code",
   "execution_count": 32,
   "metadata": {},
   "outputs": [],
   "source": [
    "import pickle\n",
    "p = pickle.load(open('model.pkl','rb'))"
   ]
  },
  {
   "cell_type": "code",
   "execution_count": 33,
   "metadata": {},
   "outputs": [],
   "source": [
    "import numpy as np\n",
    "from sklearn.preprocessing import StandardScaler"
   ]
  },
  {
   "cell_type": "code",
   "execution_count": 35,
   "metadata": {},
   "outputs": [
    {
     "name": "stdout",
     "output_type": "stream",
     "text": [
      "Predicted customer segment for the wine -  [3]\n"
     ]
    }
   ],
   "source": [
    "def main():\n",
    "    pca = pickle.load(open('pca.pkl','rb'))\n",
    "    sc = pickle.load(open('sc.pkl','rb'))\n",
    "    #Testing\n",
    "    X_test = np.array([[14.13,4.10,2.74,24.5,96,2.05,0.76,0.56,1.35,9.20,0.61,1.60,560]])\n",
    "    #Scale new wine data\n",
    "    #sc = StandardScaler()\n",
    "\n",
    "    X_test_scaled = sc.transform(X_test)\n",
    "    #Transform the new data using pca\n",
    "    \n",
    "    X_test_pca = pca.transform(X_test_scaled)\n",
    "    \n",
    "    #Predict customer segment for new wine\n",
    "    predicted_segment = p.predict(X_test_pca)\n",
    "    print(\"Predicted customer segment for the wine - \",predicted_segment)\n",
    "    \n",
    "if __name__ == \"__main__\":\n",
    "    main()"
   ]
  }
 ],
 "metadata": {
  "kernelspec": {
   "display_name": "Python 3",
   "language": "python",
   "name": "python3"
  },
  "language_info": {
   "codemirror_mode": {
    "name": "ipython",
    "version": 3
   },
   "file_extension": ".py",
   "mimetype": "text/x-python",
   "name": "python",
   "nbconvert_exporter": "python",
   "pygments_lexer": "ipython3",
   "version": "3.11.3"
  },
  "orig_nbformat": 4
 },
 "nbformat": 4,
 "nbformat_minor": 2
}
